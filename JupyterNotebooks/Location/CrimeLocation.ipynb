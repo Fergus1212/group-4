{
 "cells": [
  {
   "cell_type": "code",
   "execution_count": 1,
   "metadata": {},
   "outputs": [],
   "source": [
    "import pandas as pd\n",
    "import matplotlib.pyplot as plt\n",
    "import numpy as np\n",
    "from ipywidgets.embed import embed_minimal_html\n",
    "import gmplot\n",
    "from IPython.display import display\n",
    "\n",
    "import gmaps\n",
    "\n",
    "# Import API key\n",
    "g_key = \"\"\n",
    "\n",
    "df = pd.read_csv(\"../cleaned_data_09_19.csv\")"
   ]
  },
  {
   "cell_type": "code",
   "execution_count": 2,
   "metadata": {},
   "outputs": [
    {
     "data": {
      "image/png": "[encoded data removed]",
      "text/plain": [
       "<Figure size 432x288 with 1 Axes>"
      ]
     },
     "metadata": {
      "needs_background": "light"
     },
     "output_type": "display_data"
    }
   ],
   "source": [
    "df['APD Sector'].replace({\"HENRY\":\"HE\", \"IDA\":\"ID\"}, inplace=True)\n",
    "#renamed_df = df.rename(columns={\"APD Sector\": \"APD_Sector\"})\n",
    "austin_crime = df[(df[\"APD Sector\"] != \"88\") & (df[\"APD Sector\"] != \"UT\")]\n",
    "apd_grouped = austin_crime.groupby([\"APD Sector\"])\n",
    "apd_counts = apd_grouped['Highest Offense Description'].count()\n",
    "apd_df = pd.DataFrame(apd_counts)\n",
    "apd_plot = apd_df.plot(kind='bar', title='Number of Crimes Per APD Sector', legend =False).get_figure()\n",
    "apd_plot.savefig('apdsector.png')"
   ]
  },
  {
   "cell_type": "code",
   "execution_count": 3,
   "metadata": {},
   "outputs": [
    {
     "data": {
      "image/png": "[encoded data removed]",
      "text/plain": [
       "<Figure size 432x288 with 1 Axes>"
      ]
     },
     "metadata": {
      "needs_background": "light"
     },
     "output_type": "display_data"
    }
   ],
   "source": [
    "df[\"Council District\"].value_counts()\n",
    "district_grouped = df.groupby([\"Council District\"])\n",
    "district_counts = district_grouped['Highest Offense Description'].count()\n",
    "district_df = pd.DataFrame(district_counts)\n",
    "district_plot = district_df.plot(kind='bar', title='Number of Crimes Per City Council District', legend=False).get_figure()\n",
    "district_plot.savefig('districts.png')"
   ]
  },
  {
   "cell_type": "code",
   "execution_count": 4,
   "metadata": {},
   "outputs": [
    {
     "data": {
      "text/plain": [
       "11.00    58475\n",
       "9.02     15914\n",
       "23.04    10296\n",
       "18.23     9942\n",
       "18.13     9615\n",
       "18.49     8809\n",
       "24.21     8630\n",
       "23.18     8299\n",
       "21.05     7845\n",
       "18.06     7804\n",
       "23.08     7592\n",
       "13.07     7143\n",
       "18.12     7138\n",
       "13.05     6985\n",
       "12.00     6760\n",
       "24.02     6524\n",
       "23.16     6261\n",
       "15.03     6134\n",
       "18.20     5961\n",
       "18.04     5882\n",
       "Name: Census Tract, dtype: int64"
      ]
     },
     "execution_count": 4,
     "metadata": {},
     "output_type": "execute_result"
    }
   ],
   "source": [
    "df[\"Census Tract\"].value_counts().head(20)"
   ]
  },
  {
   "cell_type": "code",
   "execution_count": 5,
   "metadata": {},
   "outputs": [
    {
     "data": {
      "text/plain": [
       "78701.0    63327\n",
       "78741.0    53630\n",
       "78753.0    49507\n",
       "78704.0    44606\n",
       "78758.0    41764\n",
       "Name: Zip Code, dtype: int64"
      ]
     },
     "execution_count": 5,
     "metadata": {},
     "output_type": "execute_result"
    }
   ],
   "source": [
    "df['Zip Code'].value_counts().head(5)\n"
   ]
  },
  {
   "cell_type": "code",
   "execution_count": 6,
   "metadata": {},
   "outputs": [
    {
     "data": {
      "text/html": [
       "<div>\n",
       "<style scoped>\n",
       "    .dataframe tbody tr th:only-of-type {\n",
       "        vertical-align: middle;\n",
       "    }\n",
       "\n",
       "    .dataframe tbody tr th {\n",
       "        vertical-align: top;\n",
       "    }\n",
       "\n",
       "    .dataframe thead th {\n",
       "        text-align: right;\n",
       "    }\n",
       "</style>\n",
       "<table border=\"1\" class=\"dataframe\">\n",
       "  <thead>\n",
       "    <tr style=\"text-align: right;\">\n",
       "      <th></th>\n",
       "      <th>Highest Offense Description</th>\n",
       "      <th>Highest Offense Code</th>\n",
       "      <th>Family Violence</th>\n",
       "      <th>Occurred Date</th>\n",
       "      <th>Occurred Time</th>\n",
       "      <th>Location Type</th>\n",
       "      <th>Address</th>\n",
       "      <th>Zip Code</th>\n",
       "      <th>Council District</th>\n",
       "      <th>APD Sector</th>\n",
       "      <th>Census Tract</th>\n",
       "      <th>Clearance Status</th>\n",
       "      <th>Clearance Date</th>\n",
       "      <th>Category Description</th>\n",
       "      <th>Latitude</th>\n",
       "      <th>Longitude</th>\n",
       "    </tr>\n",
       "  </thead>\n",
       "  <tbody>\n",
       "    <tr>\n",
       "      <td>0</td>\n",
       "      <td>CHILD CUSTODY INTERFERE</td>\n",
       "      <td>2001</td>\n",
       "      <td>N</td>\n",
       "      <td>2019-04-13</td>\n",
       "      <td>0</td>\n",
       "      <td>RESIDENCE / HOME</td>\n",
       "      <td>9500 DESSAU RD</td>\n",
       "      <td>78753.0</td>\n",
       "      <td>4.0</td>\n",
       "      <td>ED</td>\n",
       "      <td>18.33</td>\n",
       "      <td>NaN</td>\n",
       "      <td>NaN</td>\n",
       "      <td>NaN</td>\n",
       "      <td>30.352493</td>\n",
       "      <td>-97.675258</td>\n",
       "    </tr>\n",
       "    <tr>\n",
       "      <td>1</td>\n",
       "      <td>RUNAWAY CHILD</td>\n",
       "      <td>4100</td>\n",
       "      <td>N</td>\n",
       "      <td>2019-04-13</td>\n",
       "      <td>23</td>\n",
       "      <td>OTHER / UNKNOWN</td>\n",
       "      <td>3708 S 2ND ST</td>\n",
       "      <td>78704.0</td>\n",
       "      <td>3.0</td>\n",
       "      <td>DA</td>\n",
       "      <td>13.07</td>\n",
       "      <td>NaN</td>\n",
       "      <td>NaN</td>\n",
       "      <td>NaN</td>\n",
       "      <td>30.230056</td>\n",
       "      <td>-97.771030</td>\n",
       "    </tr>\n",
       "    <tr>\n",
       "      <td>2</td>\n",
       "      <td>CRIMINAL TRESPASS</td>\n",
       "      <td>2716</td>\n",
       "      <td>N</td>\n",
       "      <td>2019-04-13</td>\n",
       "      <td>1805</td>\n",
       "      <td>DEPARTMENT / DISCOUNT STORE</td>\n",
       "      <td>1030 NORWOOD PARK BLVD</td>\n",
       "      <td>78753.0</td>\n",
       "      <td>4.0</td>\n",
       "      <td>ID</td>\n",
       "      <td>18.13</td>\n",
       "      <td>C</td>\n",
       "      <td>4/13/19</td>\n",
       "      <td>NaN</td>\n",
       "      <td>30.339153</td>\n",
       "      <td>-97.691169</td>\n",
       "    </tr>\n",
       "    <tr>\n",
       "      <td>3</td>\n",
       "      <td>POCKET PICKING</td>\n",
       "      <td>605</td>\n",
       "      <td>N</td>\n",
       "      <td>2019-04-13</td>\n",
       "      <td>100</td>\n",
       "      <td>BAR / NIGHT CLUB</td>\n",
       "      <td>403 E 6TH ST</td>\n",
       "      <td>78701.0</td>\n",
       "      <td>9.0</td>\n",
       "      <td>GE</td>\n",
       "      <td>11.00</td>\n",
       "      <td>NaN</td>\n",
       "      <td>NaN</td>\n",
       "      <td>Theft</td>\n",
       "      <td>30.266787</td>\n",
       "      <td>-97.739181</td>\n",
       "    </tr>\n",
       "    <tr>\n",
       "      <td>4</td>\n",
       "      <td>THEFT BY SHOPLIFTING</td>\n",
       "      <td>607</td>\n",
       "      <td>N</td>\n",
       "      <td>2019-04-13</td>\n",
       "      <td>1050</td>\n",
       "      <td>LIQUOR STORE</td>\n",
       "      <td>8311 RESEARCH BLVD SVRD NB</td>\n",
       "      <td>78758.0</td>\n",
       "      <td>4.0</td>\n",
       "      <td>ED</td>\n",
       "      <td>18.05</td>\n",
       "      <td>NaN</td>\n",
       "      <td>NaN</td>\n",
       "      <td>Theft</td>\n",
       "      <td>30.356603</td>\n",
       "      <td>-97.715282</td>\n",
       "    </tr>\n",
       "    <tr>\n",
       "      <td>...</td>\n",
       "      <td>...</td>\n",
       "      <td>...</td>\n",
       "      <td>...</td>\n",
       "      <td>...</td>\n",
       "      <td>...</td>\n",
       "      <td>...</td>\n",
       "      <td>...</td>\n",
       "      <td>...</td>\n",
       "      <td>...</td>\n",
       "      <td>...</td>\n",
       "      <td>...</td>\n",
       "      <td>...</td>\n",
       "      <td>...</td>\n",
       "      <td>...</td>\n",
       "      <td>...</td>\n",
       "      <td>...</td>\n",
       "    </tr>\n",
       "    <tr>\n",
       "      <td>613431</td>\n",
       "      <td>PUBLIC INTOXICATION</td>\n",
       "      <td>2300</td>\n",
       "      <td>N</td>\n",
       "      <td>2009-01-01</td>\n",
       "      <td>627</td>\n",
       "      <td>STREETS / HWY / ROAD / ALLEY</td>\n",
       "      <td>1300 MC KIE CV</td>\n",
       "      <td>78752.0</td>\n",
       "      <td>4.0</td>\n",
       "      <td>ID</td>\n",
       "      <td>18.12</td>\n",
       "      <td>C</td>\n",
       "      <td>2/20/09</td>\n",
       "      <td>NaN</td>\n",
       "      <td>30.330025</td>\n",
       "      <td>-97.692291</td>\n",
       "    </tr>\n",
       "    <tr>\n",
       "      <td>613432</td>\n",
       "      <td>DWI</td>\n",
       "      <td>2100</td>\n",
       "      <td>N</td>\n",
       "      <td>2009-01-01</td>\n",
       "      <td>200</td>\n",
       "      <td>STREETS / HWY / ROAD / ALLEY</td>\n",
       "      <td>E BEN WHITE BLVD EB / E RIVERSIDE DR</td>\n",
       "      <td>78741.0</td>\n",
       "      <td>3.0</td>\n",
       "      <td>HE</td>\n",
       "      <td>23.12</td>\n",
       "      <td>C</td>\n",
       "      <td>1/5/09</td>\n",
       "      <td>NaN</td>\n",
       "      <td>30.218285</td>\n",
       "      <td>-97.690494</td>\n",
       "    </tr>\n",
       "    <tr>\n",
       "      <td>613433</td>\n",
       "      <td>THEFT BY SHOPLIFTING</td>\n",
       "      <td>607</td>\n",
       "      <td>N</td>\n",
       "      <td>2009-01-01</td>\n",
       "      <td>1529</td>\n",
       "      <td>CONVENIENCE STORE</td>\n",
       "      <td>8557 RESEARCH BLVD SVRD NB</td>\n",
       "      <td>78758.0</td>\n",
       "      <td>4.0</td>\n",
       "      <td>ED</td>\n",
       "      <td>18.05</td>\n",
       "      <td>C</td>\n",
       "      <td>1/6/09</td>\n",
       "      <td>Theft</td>\n",
       "      <td>30.361135</td>\n",
       "      <td>-97.716606</td>\n",
       "    </tr>\n",
       "    <tr>\n",
       "      <td>613434</td>\n",
       "      <td>POSS OF DRUG PARAPHERNALIA</td>\n",
       "      <td>1818</td>\n",
       "      <td>N</td>\n",
       "      <td>2009-01-01</td>\n",
       "      <td>2343</td>\n",
       "      <td>STREETS / HWY / ROAD / ALLEY</td>\n",
       "      <td>S CONGRESS AVE / RADAM LN</td>\n",
       "      <td>78745.0</td>\n",
       "      <td>3.0</td>\n",
       "      <td>DA</td>\n",
       "      <td>24.03</td>\n",
       "      <td>C</td>\n",
       "      <td>1/6/09</td>\n",
       "      <td>NaN</td>\n",
       "      <td>30.221365</td>\n",
       "      <td>-97.764831</td>\n",
       "    </tr>\n",
       "    <tr>\n",
       "      <td>613435</td>\n",
       "      <td>FRAUD - OTHER</td>\n",
       "      <td>1199</td>\n",
       "      <td>N</td>\n",
       "      <td>2009-01-01</td>\n",
       "      <td>1200</td>\n",
       "      <td>COMMERCIAL / OFFICE BUILDING</td>\n",
       "      <td>715 E 8TH ST</td>\n",
       "      <td>78701.0</td>\n",
       "      <td>9.0</td>\n",
       "      <td>GE</td>\n",
       "      <td>11.00</td>\n",
       "      <td>N</td>\n",
       "      <td>7/21/15</td>\n",
       "      <td>NaN</td>\n",
       "      <td>30.267553</td>\n",
       "      <td>-97.734674</td>\n",
       "    </tr>\n",
       "  </tbody>\n",
       "</table>\n",
       "<p>613436 rows × 16 columns</p>\n",
       "</div>"
      ],
      "text/plain": [
       "       Highest Offense Description  Highest Offense Code Family Violence  \\\n",
       "0          CHILD CUSTODY INTERFERE                  2001               N   \n",
       "1                    RUNAWAY CHILD                  4100               N   \n",
       "2                CRIMINAL TRESPASS                  2716               N   \n",
       "3                   POCKET PICKING                   605               N   \n",
       "4             THEFT BY SHOPLIFTING                   607               N   \n",
       "...                            ...                   ...             ...   \n",
       "613431         PUBLIC INTOXICATION                  2300               N   \n",
       "613432                         DWI                  2100               N   \n",
       "613433        THEFT BY SHOPLIFTING                   607               N   \n",
       "613434  POSS OF DRUG PARAPHERNALIA                  1818               N   \n",
       "613435               FRAUD - OTHER                  1199               N   \n",
       "\n",
       "       Occurred Date  Occurred Time                 Location Type  \\\n",
       "0         2019-04-13              0              RESIDENCE / HOME   \n",
       "1         2019-04-13             23               OTHER / UNKNOWN   \n",
       "2         2019-04-13           1805   DEPARTMENT / DISCOUNT STORE   \n",
       "3         2019-04-13            100              BAR / NIGHT CLUB   \n",
       "4         2019-04-13           1050                  LIQUOR STORE   \n",
       "...              ...            ...                           ...   \n",
       "613431    2009-01-01            627  STREETS / HWY / ROAD / ALLEY   \n",
       "613432    2009-01-01            200  STREETS / HWY / ROAD / ALLEY   \n",
       "613433    2009-01-01           1529             CONVENIENCE STORE   \n",
       "613434    2009-01-01           2343  STREETS / HWY / ROAD / ALLEY   \n",
       "613435    2009-01-01           1200  COMMERCIAL / OFFICE BUILDING   \n",
       "\n",
       "                                     Address  Zip Code  Council District  \\\n",
       "0                             9500 DESSAU RD   78753.0               4.0   \n",
       "1                              3708 S 2ND ST   78704.0               3.0   \n",
       "2                     1030 NORWOOD PARK BLVD   78753.0               4.0   \n",
       "3                               403 E 6TH ST   78701.0               9.0   \n",
       "4                 8311 RESEARCH BLVD SVRD NB   78758.0               4.0   \n",
       "...                                      ...       ...               ...   \n",
       "613431                        1300 MC KIE CV   78752.0               4.0   \n",
       "613432  E BEN WHITE BLVD EB / E RIVERSIDE DR   78741.0               3.0   \n",
       "613433            8557 RESEARCH BLVD SVRD NB   78758.0               4.0   \n",
       "613434             S CONGRESS AVE / RADAM LN   78745.0               3.0   \n",
       "613435                          715 E 8TH ST   78701.0               9.0   \n",
       "\n",
       "       APD Sector  Census Tract Clearance Status Clearance Date  \\\n",
       "0              ED         18.33              NaN            NaN   \n",
       "1              DA         13.07              NaN            NaN   \n",
       "2              ID         18.13                C        4/13/19   \n",
       "3              GE         11.00              NaN            NaN   \n",
       "4              ED         18.05              NaN            NaN   \n",
       "...           ...           ...              ...            ...   \n",
       "613431         ID         18.12                C        2/20/09   \n",
       "613432         HE         23.12                C         1/5/09   \n",
       "613433         ED         18.05                C         1/6/09   \n",
       "613434         DA         24.03                C         1/6/09   \n",
       "613435         GE         11.00                N        7/21/15   \n",
       "\n",
       "       Category Description   Latitude  Longitude  \n",
       "0                       NaN  30.352493 -97.675258  \n",
       "1                       NaN  30.230056 -97.771030  \n",
       "2                       NaN  30.339153 -97.691169  \n",
       "3                     Theft  30.266787 -97.739181  \n",
       "4                     Theft  30.356603 -97.715282  \n",
       "...                     ...        ...        ...  \n",
       "613431                  NaN  30.330025 -97.692291  \n",
       "613432                  NaN  30.218285 -97.690494  \n",
       "613433                Theft  30.361135 -97.716606  \n",
       "613434                  NaN  30.221365 -97.764831  \n",
       "613435                  NaN  30.267553 -97.734674  \n",
       "\n",
       "[613436 rows x 16 columns]"
      ]
     },
     "execution_count": 6,
     "metadata": {},
     "output_type": "execute_result"
    }
   ],
   "source": [
    "df"
   ]
  },
  {
   "cell_type": "code",
   "execution_count": 7,
   "metadata": {
    "scrolled": false
   },
   "outputs": [
    {
     "data": {
      "application/vnd.jupyter.widget-view+json": {
       "model_id": "5ca0662937bb4a0cb4b1f78755090196",
       "version_major": 2,
       "version_minor": 0
      },
      "text/plain": [
       "Figure(layout=FigureLayout(height='420px'))"
      ]
     },
     "metadata": {},
     "output_type": "display_data"
    }
   ],
   "source": [
    "gmaps.configure(api_key=g_key)\n",
    "locations = df[[\"Latitude\", \"Longitude\"]]\n",
    "fig = gmaps.figure()\n",
    "heatmap_layer = gmaps.heatmap_layer(locations)\n",
    "heatmap_layer.max_intensity = 100\n",
    "heatmap_layer.point_radius = 2\n",
    "fig.add_layer(heatmap_layer)\n",
    "fig"
   ]
  },
  {
   "cell_type": "code",
   "execution_count": 8,
   "metadata": {},
   "outputs": [],
   "source": [
    "#embed_minimal_html('heatmap_austin.html', views=[fig])"
   ]
  },
  {
   "cell_type": "code",
   "execution_count": 9,
   "metadata": {},
   "outputs": [
    {
     "data": {
      "application/vnd.jupyter.widget-view+json": {
       "model_id": "1dde8badf7024e57b8026061621ebd93",
       "version_major": 2,
       "version_minor": 0
      },
      "text/plain": [
       "Figure(layout=FigureLayout(height='420px'))"
      ]
     },
     "metadata": {},
     "output_type": "display_data"
    }
   ],
   "source": [
    "riverside_crime = df[(df['Zip Code'] == 78741.0) | (df['Zip Code'] == 78704.0)]\n",
    "gmaps.configure(api_key=g_key)\n",
    "locations = riverside_crime[[\"Latitude\", \"Longitude\"]]\n",
    "fig = gmaps.figure()\n",
    "heatmap_layer = gmaps.heatmap_layer(locations)\n",
    "heatmap_layer.max_intensity = 100\n",
    "heatmap_layer.point_radius = 5\n",
    "fig.add_layer(heatmap_layer)\n",
    "fig"
   ]
  },
  {
   "cell_type": "code",
   "execution_count": 10,
   "metadata": {},
   "outputs": [],
   "source": [
    "#embed_minimal_html('heatmap_riverside.html', views=[fig])"
   ]
  },
  {
   "cell_type": "code",
   "execution_count": 11,
   "metadata": {},
   "outputs": [
    {
     "data": {
      "application/vnd.jupyter.widget-view+json": {
       "model_id": "0a4f4121c450440594b4a510287cec17",
       "version_major": 2,
       "version_minor": 0
      },
      "text/plain": [
       "Figure(layout=FigureLayout(height='420px'))"
      ]
     },
     "metadata": {},
     "output_type": "display_data"
    }
   ],
   "source": [
    "dt_crime = df[(df['Zip Code'] == 78701.0)]\n",
    "gmaps.configure(api_key=g_key)\n",
    "locations = dt_crime[[\"Latitude\", \"Longitude\"]]\n",
    "fig1 = gmaps.figure()\n",
    "heatmap_layer = gmaps.heatmap_layer(locations)\n",
    "heatmap_layer.max_intensity = 100\n",
    "heatmap_layer.point_radius = 5\n",
    "fig1.add_layer(heatmap_layer)\n",
    "fig1"
   ]
  },
  {
   "cell_type": "code",
   "execution_count": 12,
   "metadata": {},
   "outputs": [],
   "source": [
    "#embed_minimal_html('heatmap_dt.html', views=[fig])"
   ]
  },
  {
   "cell_type": "code",
   "execution_count": 13,
   "metadata": {},
   "outputs": [
    {
     "data": {
      "application/vnd.jupyter.widget-view+json": {
       "model_id": "f94c8cb8dedd484b8488bd50be6931c9",
       "version_major": 2,
       "version_minor": 0
      },
      "text/plain": [
       "Figure(layout=FigureLayout(height='420px'))"
      ]
     },
     "metadata": {},
     "output_type": "display_data"
    }
   ],
   "source": [
    "lamar_crime = df[(df['Zip Code'] == 78753.0) | (df['Zip Code'] == 78758.0)]\n",
    "gmaps.configure(api_key=g_key)\n",
    "locations = lamar_crime[[\"Latitude\", \"Longitude\"]]\n",
    "fig2 = gmaps.figure()\n",
    "heatmap_layer = gmaps.heatmap_layer(locations)\n",
    "heatmap_layer.max_intensity = 100\n",
    "heatmap_layer.point_radius = 5\n",
    "fig2.add_layer(heatmap_layer)\n",
    "fig2"
   ]
  },
  {
   "cell_type": "code",
   "execution_count": 14,
   "metadata": {},
   "outputs": [],
   "source": [
    "#embed_minimal_html('heatmap_lamar.html', views=[fig])"
   ]
  }
 ],
 "metadata": {
  "kernelspec": {
   "display_name": "Python 3",
   "language": "python",
   "name": "python3"
  },
  "language_info": {
   "codemirror_mode": {
    "name": "ipython",
    "version": 3
   },
   "file_extension": ".py",
   "mimetype": "text/x-python",
   "name": "python",
   "nbconvert_exporter": "python",
   "pygments_lexer": "ipython3",
   "version": "3.7.4"
  }
 },
 "nbformat": 4,
 "nbformat_minor": 2
}
