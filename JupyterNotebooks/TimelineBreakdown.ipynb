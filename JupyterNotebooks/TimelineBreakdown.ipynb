{
 "cells": [
  {
   "cell_type": "code",
   "execution_count": 18,
   "metadata": {},
   "outputs": [],
   "source": [
    "import pandas as pd\n",
    "import matplotlib.pyplot as plt\n",
    "import numpy as np"
   ]
  },
  {
   "cell_type": "code",
   "execution_count": 6,
   "metadata": {},
   "outputs": [],
   "source": [
    "df = pd.read_csv(\"../Resources/clean_data_with_datetime_10_18.csv\")"
   ]
  },
  {
   "cell_type": "code",
   "execution_count": 7,
   "metadata": {},
   "outputs": [
    {
     "data": {
      "text/html": [
       "<div>\n",
       "<style scoped>\n",
       "    .dataframe tbody tr th:only-of-type {\n",
       "        vertical-align: middle;\n",
       "    }\n",
       "\n",
       "    .dataframe tbody tr th {\n",
       "        vertical-align: top;\n",
       "    }\n",
       "\n",
       "    .dataframe thead th {\n",
       "        text-align: right;\n",
       "    }\n",
       "</style>\n",
       "<table border=\"1\" class=\"dataframe\">\n",
       "  <thead>\n",
       "    <tr style=\"text-align: right;\">\n",
       "      <th></th>\n",
       "      <th>Unnamed: 0</th>\n",
       "      <th>Datetime</th>\n",
       "      <th>Highest Offense Description</th>\n",
       "      <th>Highest Offense Code</th>\n",
       "      <th>Family Violence</th>\n",
       "      <th>Occurred Date</th>\n",
       "      <th>Occurred Time</th>\n",
       "      <th>Location Type</th>\n",
       "      <th>Address</th>\n",
       "      <th>Zip Code</th>\n",
       "      <th>Council District</th>\n",
       "      <th>APD Sector</th>\n",
       "      <th>Census Tract</th>\n",
       "      <th>Clearance Status</th>\n",
       "      <th>Clearance Date</th>\n",
       "      <th>Category Description</th>\n",
       "      <th>Latitude</th>\n",
       "      <th>Longitude</th>\n",
       "      <th>Datetime String</th>\n",
       "    </tr>\n",
       "  </thead>\n",
       "  <tbody>\n",
       "    <tr>\n",
       "      <th>0</th>\n",
       "      <td>0</td>\n",
       "      <td>2018-12-31 00:00:00</td>\n",
       "      <td>HARASSMENT</td>\n",
       "      <td>2703</td>\n",
       "      <td>N</td>\n",
       "      <td>2018-12-31</td>\n",
       "      <td>0</td>\n",
       "      <td>RESIDENCE / HOME</td>\n",
       "      <td>4600 MUELLER BLVD</td>\n",
       "      <td>78723.0</td>\n",
       "      <td>9.0</td>\n",
       "      <td>BA</td>\n",
       "      <td>3.06</td>\n",
       "      <td>N</td>\n",
       "      <td>1/9/19</td>\n",
       "      <td>NaN</td>\n",
       "      <td>30.299481</td>\n",
       "      <td>-97.708049</td>\n",
       "      <td>2018-12-31 0000</td>\n",
       "    </tr>\n",
       "    <tr>\n",
       "      <th>1</th>\n",
       "      <td>1</td>\n",
       "      <td>2018-12-31 17:30:00</td>\n",
       "      <td>TERRORISTIC THREAT-FAM/DAT VIO</td>\n",
       "      <td>2704</td>\n",
       "      <td>Y</td>\n",
       "      <td>2018-12-31</td>\n",
       "      <td>1730</td>\n",
       "      <td>RESIDENCE / HOME</td>\n",
       "      <td>11109 RENEL DR</td>\n",
       "      <td>78758.0</td>\n",
       "      <td>4.0</td>\n",
       "      <td>ED</td>\n",
       "      <td>18.45</td>\n",
       "      <td>N</td>\n",
       "      <td>1/8/19</td>\n",
       "      <td>NaN</td>\n",
       "      <td>30.383668</td>\n",
       "      <td>-97.695329</td>\n",
       "      <td>2018-12-31 1730</td>\n",
       "    </tr>\n",
       "    <tr>\n",
       "      <th>2</th>\n",
       "      <td>2</td>\n",
       "      <td>2018-12-31 07:55:00</td>\n",
       "      <td>DISTURBANCE - OTHER</td>\n",
       "      <td>3401</td>\n",
       "      <td>N</td>\n",
       "      <td>2018-12-31</td>\n",
       "      <td>755</td>\n",
       "      <td>STREETS / HWY / ROAD / ALLEY</td>\n",
       "      <td>715 E 8TH ST</td>\n",
       "      <td>78701.0</td>\n",
       "      <td>9.0</td>\n",
       "      <td>GE</td>\n",
       "      <td>11.00</td>\n",
       "      <td>N</td>\n",
       "      <td>1/6/19</td>\n",
       "      <td>NaN</td>\n",
       "      <td>30.267553</td>\n",
       "      <td>-97.734674</td>\n",
       "      <td>2018-12-31 0755</td>\n",
       "    </tr>\n",
       "    <tr>\n",
       "      <th>3</th>\n",
       "      <td>3</td>\n",
       "      <td>2018-12-31 11:04:00</td>\n",
       "      <td>THEFT</td>\n",
       "      <td>600</td>\n",
       "      <td>N</td>\n",
       "      <td>2018-12-31</td>\n",
       "      <td>1104</td>\n",
       "      <td>SPECIALTY  STORE (TV  FUR ETC.)</td>\n",
       "      <td>9629 RESEARCH BLVD NB</td>\n",
       "      <td>78759.0</td>\n",
       "      <td>7.0</td>\n",
       "      <td>AD</td>\n",
       "      <td>17.53</td>\n",
       "      <td>N</td>\n",
       "      <td>1/9/19</td>\n",
       "      <td>Theft</td>\n",
       "      <td>30.389161</td>\n",
       "      <td>-97.743414</td>\n",
       "      <td>2018-12-31 1104</td>\n",
       "    </tr>\n",
       "    <tr>\n",
       "      <th>4</th>\n",
       "      <td>4</td>\n",
       "      <td>2018-12-31 19:30:00</td>\n",
       "      <td>HARASSMENT</td>\n",
       "      <td>2703</td>\n",
       "      <td>Y</td>\n",
       "      <td>2018-12-31</td>\n",
       "      <td>1930</td>\n",
       "      <td>RESIDENCE / HOME</td>\n",
       "      <td>13635 RUTLEDGE SPUR</td>\n",
       "      <td>78717.0</td>\n",
       "      <td>6.0</td>\n",
       "      <td>AD</td>\n",
       "      <td>203.11</td>\n",
       "      <td>N</td>\n",
       "      <td>1/8/19</td>\n",
       "      <td>NaN</td>\n",
       "      <td>30.476251</td>\n",
       "      <td>-97.780352</td>\n",
       "      <td>2018-12-31 1930</td>\n",
       "    </tr>\n",
       "  </tbody>\n",
       "</table>\n",
       "</div>"
      ],
      "text/plain": [
       "   Unnamed: 0             Datetime     Highest Offense Description  \\\n",
       "0           0  2018-12-31 00:00:00                      HARASSMENT   \n",
       "1           1  2018-12-31 17:30:00  TERRORISTIC THREAT-FAM/DAT VIO   \n",
       "2           2  2018-12-31 07:55:00             DISTURBANCE - OTHER   \n",
       "3           3  2018-12-31 11:04:00                           THEFT   \n",
       "4           4  2018-12-31 19:30:00                      HARASSMENT   \n",
       "\n",
       "   Highest Offense Code Family Violence Occurred Date  Occurred Time  \\\n",
       "0                  2703               N    2018-12-31              0   \n",
       "1                  2704               Y    2018-12-31           1730   \n",
       "2                  3401               N    2018-12-31            755   \n",
       "3                   600               N    2018-12-31           1104   \n",
       "4                  2703               Y    2018-12-31           1930   \n",
       "\n",
       "                     Location Type                Address  Zip Code  \\\n",
       "0                 RESIDENCE / HOME      4600 MUELLER BLVD   78723.0   \n",
       "1                 RESIDENCE / HOME         11109 RENEL DR   78758.0   \n",
       "2     STREETS / HWY / ROAD / ALLEY           715 E 8TH ST   78701.0   \n",
       "3  SPECIALTY  STORE (TV  FUR ETC.)  9629 RESEARCH BLVD NB   78759.0   \n",
       "4                 RESIDENCE / HOME    13635 RUTLEDGE SPUR   78717.0   \n",
       "\n",
       "   Council District APD Sector  Census Tract Clearance Status Clearance Date  \\\n",
       "0               9.0         BA          3.06                N         1/9/19   \n",
       "1               4.0         ED         18.45                N         1/8/19   \n",
       "2               9.0         GE         11.00                N         1/6/19   \n",
       "3               7.0         AD         17.53                N         1/9/19   \n",
       "4               6.0         AD        203.11                N         1/8/19   \n",
       "\n",
       "  Category Description   Latitude  Longitude  Datetime String  \n",
       "0                  NaN  30.299481 -97.708049  2018-12-31 0000  \n",
       "1                  NaN  30.383668 -97.695329  2018-12-31 1730  \n",
       "2                  NaN  30.267553 -97.734674  2018-12-31 0755  \n",
       "3                Theft  30.389161 -97.743414  2018-12-31 1104  \n",
       "4                  NaN  30.476251 -97.780352  2018-12-31 1930  "
      ]
     },
     "execution_count": 7,
     "metadata": {},
     "output_type": "execute_result"
    }
   ],
   "source": [
    "df.head()"
   ]
  },
  {
   "cell_type": "code",
   "execution_count": 8,
   "metadata": {},
   "outputs": [],
   "source": [
    "df = df.drop(columns=[\"Unnamed: 0\"])"
   ]
  },
  {
   "cell_type": "code",
   "execution_count": 9,
   "metadata": {},
   "outputs": [],
   "source": [
    "df[\"Datetime\"] = pd.to_datetime(df[\"Datetime\"])"
   ]
  },
  {
   "cell_type": "code",
   "execution_count": 10,
   "metadata": {},
   "outputs": [],
   "source": [
    "df = df.set_index(\"Datetime\")"
   ]
  },
  {
   "cell_type": "code",
   "execution_count": 11,
   "metadata": {},
   "outputs": [
    {
     "data": {
      "text/html": [
       "<div>\n",
       "<style scoped>\n",
       "    .dataframe tbody tr th:only-of-type {\n",
       "        vertical-align: middle;\n",
       "    }\n",
       "\n",
       "    .dataframe tbody tr th {\n",
       "        vertical-align: top;\n",
       "    }\n",
       "\n",
       "    .dataframe thead th {\n",
       "        text-align: right;\n",
       "    }\n",
       "</style>\n",
       "<table border=\"1\" class=\"dataframe\">\n",
       "  <thead>\n",
       "    <tr style=\"text-align: right;\">\n",
       "      <th></th>\n",
       "      <th>Highest Offense Description</th>\n",
       "      <th>Highest Offense Code</th>\n",
       "      <th>Family Violence</th>\n",
       "      <th>Occurred Date</th>\n",
       "      <th>Occurred Time</th>\n",
       "      <th>Location Type</th>\n",
       "      <th>Address</th>\n",
       "      <th>Zip Code</th>\n",
       "      <th>Council District</th>\n",
       "      <th>APD Sector</th>\n",
       "      <th>Census Tract</th>\n",
       "      <th>Clearance Status</th>\n",
       "      <th>Clearance Date</th>\n",
       "      <th>Category Description</th>\n",
       "      <th>Latitude</th>\n",
       "      <th>Longitude</th>\n",
       "      <th>Datetime String</th>\n",
       "    </tr>\n",
       "    <tr>\n",
       "      <th>Datetime</th>\n",
       "      <th></th>\n",
       "      <th></th>\n",
       "      <th></th>\n",
       "      <th></th>\n",
       "      <th></th>\n",
       "      <th></th>\n",
       "      <th></th>\n",
       "      <th></th>\n",
       "      <th></th>\n",
       "      <th></th>\n",
       "      <th></th>\n",
       "      <th></th>\n",
       "      <th></th>\n",
       "      <th></th>\n",
       "      <th></th>\n",
       "      <th></th>\n",
       "      <th></th>\n",
       "    </tr>\n",
       "  </thead>\n",
       "  <tbody>\n",
       "    <tr>\n",
       "      <th>2018-12-31 00:00:00</th>\n",
       "      <td>HARASSMENT</td>\n",
       "      <td>2703</td>\n",
       "      <td>N</td>\n",
       "      <td>2018-12-31</td>\n",
       "      <td>0</td>\n",
       "      <td>RESIDENCE / HOME</td>\n",
       "      <td>4600 MUELLER BLVD</td>\n",
       "      <td>78723.0</td>\n",
       "      <td>9.0</td>\n",
       "      <td>BA</td>\n",
       "      <td>3.06</td>\n",
       "      <td>N</td>\n",
       "      <td>1/9/19</td>\n",
       "      <td>NaN</td>\n",
       "      <td>30.299481</td>\n",
       "      <td>-97.708049</td>\n",
       "      <td>2018-12-31 0000</td>\n",
       "    </tr>\n",
       "    <tr>\n",
       "      <th>2018-12-31 17:30:00</th>\n",
       "      <td>TERRORISTIC THREAT-FAM/DAT VIO</td>\n",
       "      <td>2704</td>\n",
       "      <td>Y</td>\n",
       "      <td>2018-12-31</td>\n",
       "      <td>1730</td>\n",
       "      <td>RESIDENCE / HOME</td>\n",
       "      <td>11109 RENEL DR</td>\n",
       "      <td>78758.0</td>\n",
       "      <td>4.0</td>\n",
       "      <td>ED</td>\n",
       "      <td>18.45</td>\n",
       "      <td>N</td>\n",
       "      <td>1/8/19</td>\n",
       "      <td>NaN</td>\n",
       "      <td>30.383668</td>\n",
       "      <td>-97.695329</td>\n",
       "      <td>2018-12-31 1730</td>\n",
       "    </tr>\n",
       "    <tr>\n",
       "      <th>2018-12-31 07:55:00</th>\n",
       "      <td>DISTURBANCE - OTHER</td>\n",
       "      <td>3401</td>\n",
       "      <td>N</td>\n",
       "      <td>2018-12-31</td>\n",
       "      <td>755</td>\n",
       "      <td>STREETS / HWY / ROAD / ALLEY</td>\n",
       "      <td>715 E 8TH ST</td>\n",
       "      <td>78701.0</td>\n",
       "      <td>9.0</td>\n",
       "      <td>GE</td>\n",
       "      <td>11.00</td>\n",
       "      <td>N</td>\n",
       "      <td>1/6/19</td>\n",
       "      <td>NaN</td>\n",
       "      <td>30.267553</td>\n",
       "      <td>-97.734674</td>\n",
       "      <td>2018-12-31 0755</td>\n",
       "    </tr>\n",
       "    <tr>\n",
       "      <th>2018-12-31 11:04:00</th>\n",
       "      <td>THEFT</td>\n",
       "      <td>600</td>\n",
       "      <td>N</td>\n",
       "      <td>2018-12-31</td>\n",
       "      <td>1104</td>\n",
       "      <td>SPECIALTY  STORE (TV  FUR ETC.)</td>\n",
       "      <td>9629 RESEARCH BLVD NB</td>\n",
       "      <td>78759.0</td>\n",
       "      <td>7.0</td>\n",
       "      <td>AD</td>\n",
       "      <td>17.53</td>\n",
       "      <td>N</td>\n",
       "      <td>1/9/19</td>\n",
       "      <td>Theft</td>\n",
       "      <td>30.389161</td>\n",
       "      <td>-97.743414</td>\n",
       "      <td>2018-12-31 1104</td>\n",
       "    </tr>\n",
       "    <tr>\n",
       "      <th>2018-12-31 19:30:00</th>\n",
       "      <td>HARASSMENT</td>\n",
       "      <td>2703</td>\n",
       "      <td>Y</td>\n",
       "      <td>2018-12-31</td>\n",
       "      <td>1930</td>\n",
       "      <td>RESIDENCE / HOME</td>\n",
       "      <td>13635 RUTLEDGE SPUR</td>\n",
       "      <td>78717.0</td>\n",
       "      <td>6.0</td>\n",
       "      <td>AD</td>\n",
       "      <td>203.11</td>\n",
       "      <td>N</td>\n",
       "      <td>1/8/19</td>\n",
       "      <td>NaN</td>\n",
       "      <td>30.476251</td>\n",
       "      <td>-97.780352</td>\n",
       "      <td>2018-12-31 1930</td>\n",
       "    </tr>\n",
       "  </tbody>\n",
       "</table>\n",
       "</div>"
      ],
      "text/plain": [
       "                        Highest Offense Description  Highest Offense Code  \\\n",
       "Datetime                                                                    \n",
       "2018-12-31 00:00:00                      HARASSMENT                  2703   \n",
       "2018-12-31 17:30:00  TERRORISTIC THREAT-FAM/DAT VIO                  2704   \n",
       "2018-12-31 07:55:00             DISTURBANCE - OTHER                  3401   \n",
       "2018-12-31 11:04:00                           THEFT                   600   \n",
       "2018-12-31 19:30:00                      HARASSMENT                  2703   \n",
       "\n",
       "                    Family Violence Occurred Date  Occurred Time  \\\n",
       "Datetime                                                           \n",
       "2018-12-31 00:00:00               N    2018-12-31              0   \n",
       "2018-12-31 17:30:00               Y    2018-12-31           1730   \n",
       "2018-12-31 07:55:00               N    2018-12-31            755   \n",
       "2018-12-31 11:04:00               N    2018-12-31           1104   \n",
       "2018-12-31 19:30:00               Y    2018-12-31           1930   \n",
       "\n",
       "                                       Location Type                Address  \\\n",
       "Datetime                                                                      \n",
       "2018-12-31 00:00:00                 RESIDENCE / HOME      4600 MUELLER BLVD   \n",
       "2018-12-31 17:30:00                 RESIDENCE / HOME         11109 RENEL DR   \n",
       "2018-12-31 07:55:00     STREETS / HWY / ROAD / ALLEY           715 E 8TH ST   \n",
       "2018-12-31 11:04:00  SPECIALTY  STORE (TV  FUR ETC.)  9629 RESEARCH BLVD NB   \n",
       "2018-12-31 19:30:00                 RESIDENCE / HOME    13635 RUTLEDGE SPUR   \n",
       "\n",
       "                     Zip Code  Council District APD Sector  Census Tract  \\\n",
       "Datetime                                                                   \n",
       "2018-12-31 00:00:00   78723.0               9.0         BA          3.06   \n",
       "2018-12-31 17:30:00   78758.0               4.0         ED         18.45   \n",
       "2018-12-31 07:55:00   78701.0               9.0         GE         11.00   \n",
       "2018-12-31 11:04:00   78759.0               7.0         AD         17.53   \n",
       "2018-12-31 19:30:00   78717.0               6.0         AD        203.11   \n",
       "\n",
       "                    Clearance Status Clearance Date Category Description  \\\n",
       "Datetime                                                                   \n",
       "2018-12-31 00:00:00                N         1/9/19                  NaN   \n",
       "2018-12-31 17:30:00                N         1/8/19                  NaN   \n",
       "2018-12-31 07:55:00                N         1/6/19                  NaN   \n",
       "2018-12-31 11:04:00                N         1/9/19                Theft   \n",
       "2018-12-31 19:30:00                N         1/8/19                  NaN   \n",
       "\n",
       "                      Latitude  Longitude  Datetime String  \n",
       "Datetime                                                    \n",
       "2018-12-31 00:00:00  30.299481 -97.708049  2018-12-31 0000  \n",
       "2018-12-31 17:30:00  30.383668 -97.695329  2018-12-31 1730  \n",
       "2018-12-31 07:55:00  30.267553 -97.734674  2018-12-31 0755  \n",
       "2018-12-31 11:04:00  30.389161 -97.743414  2018-12-31 1104  \n",
       "2018-12-31 19:30:00  30.476251 -97.780352  2018-12-31 1930  "
      ]
     },
     "execution_count": 11,
     "metadata": {},
     "output_type": "execute_result"
    }
   ],
   "source": [
    "df.head()"
   ]
  },
  {
   "cell_type": "code",
   "execution_count": 14,
   "metadata": {},
   "outputs": [],
   "source": [
    "df = df.fillna( {\"Zip Code\":0})"
   ]
  },
  {
   "cell_type": "code",
   "execution_count": 16,
   "metadata": {},
   "outputs": [
    {
     "data": {
      "text/html": [
       "<div>\n",
       "<style scoped>\n",
       "    .dataframe tbody tr th:only-of-type {\n",
       "        vertical-align: middle;\n",
       "    }\n",
       "\n",
       "    .dataframe tbody tr th {\n",
       "        vertical-align: top;\n",
       "    }\n",
       "\n",
       "    .dataframe thead th {\n",
       "        text-align: right;\n",
       "    }\n",
       "</style>\n",
       "<table border=\"1\" class=\"dataframe\">\n",
       "  <thead>\n",
       "    <tr style=\"text-align: right;\">\n",
       "      <th></th>\n",
       "      <th>Highest Offense Description</th>\n",
       "      <th>Highest Offense Code</th>\n",
       "      <th>Family Violence</th>\n",
       "      <th>Occurred Date</th>\n",
       "      <th>Occurred Time</th>\n",
       "      <th>Location Type</th>\n",
       "      <th>Address</th>\n",
       "      <th>Zip Code</th>\n",
       "      <th>Council District</th>\n",
       "      <th>APD Sector</th>\n",
       "      <th>Census Tract</th>\n",
       "      <th>Clearance Status</th>\n",
       "      <th>Clearance Date</th>\n",
       "      <th>Category Description</th>\n",
       "      <th>Latitude</th>\n",
       "      <th>Longitude</th>\n",
       "      <th>Datetime String</th>\n",
       "    </tr>\n",
       "    <tr>\n",
       "      <th>Datetime</th>\n",
       "      <th></th>\n",
       "      <th></th>\n",
       "      <th></th>\n",
       "      <th></th>\n",
       "      <th></th>\n",
       "      <th></th>\n",
       "      <th></th>\n",
       "      <th></th>\n",
       "      <th></th>\n",
       "      <th></th>\n",
       "      <th></th>\n",
       "      <th></th>\n",
       "      <th></th>\n",
       "      <th></th>\n",
       "      <th></th>\n",
       "      <th></th>\n",
       "      <th></th>\n",
       "    </tr>\n",
       "  </thead>\n",
       "  <tbody>\n",
       "  </tbody>\n",
       "</table>\n",
       "</div>"
      ],
      "text/plain": [
       "Empty DataFrame\n",
       "Columns: [Highest Offense Description, Highest Offense Code, Family Violence, Occurred Date, Occurred Time, Location Type, Address, Zip Code, Council District, APD Sector, Census Tract, Clearance Status, Clearance Date, Category Description, Latitude, Longitude, Datetime String]\n",
       "Index: []"
      ]
     },
     "execution_count": 16,
     "metadata": {},
     "output_type": "execute_result"
    }
   ],
   "source": [
    "df[df[\"Zip Code\"].isna()]"
   ]
  },
  {
   "cell_type": "code",
   "execution_count": 19,
   "metadata": {},
   "outputs": [],
   "source": [
    "df[\"Zip Code\"] = df[\"Zip Code\"].apply(np.int64)"
   ]
  },
  {
   "cell_type": "code",
   "execution_count": 21,
   "metadata": {},
   "outputs": [],
   "source": [
    "df.to_csv(\"../Resources/clean_data_with_datetime_10_18.csv\")"
   ]
  },
  {
   "cell_type": "code",
   "execution_count": 108,
   "metadata": {},
   "outputs": [],
   "source": [
    "aust_pop_df = pd.read_csv(\"../Resources/austin_population.csv\")"
   ]
  },
  {
   "cell_type": "code",
   "execution_count": 61,
   "metadata": {},
   "outputs": [],
   "source": [
    "aust_pop_df = aust_pop_df.rename(columns={\"Metro population\":\"Metro Population\"})"
   ]
  },
  {
   "cell_type": "code",
   "execution_count": 64,
   "metadata": {},
   "outputs": [],
   "source": [
    "aust_pop_df.to_csv(\"../Resources/austin_population.csv\")"
   ]
  },
  {
   "cell_type": "code",
   "execution_count": 62,
   "metadata": {},
   "outputs": [],
   "source": [
    "aust_pop_df[\"Metro Population\"] = aust_pop_df[\"Metro Population\"].str.replace(\",\",\"\")"
   ]
  },
  {
   "cell_type": "code",
   "execution_count": 63,
   "metadata": {},
   "outputs": [
    {
     "data": {
      "text/html": [
       "<div>\n",
       "<style scoped>\n",
       "    .dataframe tbody tr th:only-of-type {\n",
       "        vertical-align: middle;\n",
       "    }\n",
       "\n",
       "    .dataframe tbody tr th {\n",
       "        vertical-align: top;\n",
       "    }\n",
       "\n",
       "    .dataframe thead th {\n",
       "        text-align: right;\n",
       "    }\n",
       "</style>\n",
       "<table border=\"1\" class=\"dataframe\">\n",
       "  <thead>\n",
       "    <tr style=\"text-align: right;\">\n",
       "      <th></th>\n",
       "      <th>Year</th>\n",
       "      <th>Population</th>\n",
       "      <th>Growth</th>\n",
       "      <th>Annual growth rate</th>\n",
       "      <th>Metro Population</th>\n",
       "      <th>Metro Growth</th>\n",
       "      <th>Metro Growth Percent</th>\n",
       "      <th>Labor Force</th>\n",
       "      <th>Employment</th>\n",
       "      <th>Unemployment</th>\n",
       "      <th>Unemployment Rate</th>\n",
       "    </tr>\n",
       "  </thead>\n",
       "  <tbody>\n",
       "    <tr>\n",
       "      <th>0</th>\n",
       "      <td>2010</td>\n",
       "      <td>806423</td>\n",
       "      <td>149,861</td>\n",
       "      <td>2.08%</td>\n",
       "      <td>1727528</td>\n",
       "      <td>NaN</td>\n",
       "      <td>NaN</td>\n",
       "      <td>930,550</td>\n",
       "      <td>865,461</td>\n",
       "      <td>65,089</td>\n",
       "      <td>7.0%</td>\n",
       "    </tr>\n",
       "    <tr>\n",
       "      <th>1</th>\n",
       "      <td>2011</td>\n",
       "      <td>828694</td>\n",
       "      <td>22,271</td>\n",
       "      <td>2.76%</td>\n",
       "      <td>1780605</td>\n",
       "      <td>53,077</td>\n",
       "      <td>2.98%</td>\n",
       "      <td>960,844</td>\n",
       "      <td>897,490</td>\n",
       "      <td>63,354</td>\n",
       "      <td>6.6%</td>\n",
       "    </tr>\n",
       "    <tr>\n",
       "      <th>2</th>\n",
       "      <td>2012</td>\n",
       "      <td>854841</td>\n",
       "      <td>26,147</td>\n",
       "      <td>3.16%</td>\n",
       "      <td>1834926</td>\n",
       "      <td>54,321</td>\n",
       "      <td>2.96%</td>\n",
       "      <td>987,653</td>\n",
       "      <td>931,584</td>\n",
       "      <td>56,069</td>\n",
       "      <td>5.7%</td>\n",
       "    </tr>\n",
       "    <tr>\n",
       "      <th>3</th>\n",
       "      <td>2013</td>\n",
       "      <td>875463</td>\n",
       "      <td>20,622</td>\n",
       "      <td>2.41%</td>\n",
       "      <td>1883901</td>\n",
       "      <td>48,975</td>\n",
       "      <td>2.60%</td>\n",
       "      <td>1,019,483</td>\n",
       "      <td>966,601</td>\n",
       "      <td>52,882</td>\n",
       "      <td>5.2%</td>\n",
       "    </tr>\n",
       "    <tr>\n",
       "      <th>4</th>\n",
       "      <td>2014</td>\n",
       "      <td>901734</td>\n",
       "      <td>26,271</td>\n",
       "      <td>3.00%</td>\n",
       "      <td>1943409</td>\n",
       "      <td>59,508</td>\n",
       "      <td>3.06%</td>\n",
       "      <td>1,048,963</td>\n",
       "      <td>1,004,806</td>\n",
       "      <td>44,157</td>\n",
       "      <td>4.2%</td>\n",
       "    </tr>\n",
       "    <tr>\n",
       "      <th>5</th>\n",
       "      <td>2015</td>\n",
       "      <td>921545</td>\n",
       "      <td>19,811</td>\n",
       "      <td>2.20%</td>\n",
       "      <td>2002591</td>\n",
       "      <td>59,182</td>\n",
       "      <td>2.96%</td>\n",
       "      <td>1,073,300</td>\n",
       "      <td>1,037,150</td>\n",
       "      <td>36,150</td>\n",
       "      <td>3.4%</td>\n",
       "    </tr>\n",
       "    <tr>\n",
       "      <th>6</th>\n",
       "      <td>2016</td>\n",
       "      <td>939768</td>\n",
       "      <td>18,223</td>\n",
       "      <td>1.98%</td>\n",
       "      <td>2062211</td>\n",
       "      <td>59,620</td>\n",
       "      <td>2.89%</td>\n",
       "      <td>1,118,228</td>\n",
       "      <td>1,081,654</td>\n",
       "      <td>36,574</td>\n",
       "      <td>3.3%</td>\n",
       "    </tr>\n",
       "    <tr>\n",
       "      <th>7</th>\n",
       "      <td>2017</td>\n",
       "      <td>951750</td>\n",
       "      <td>11,982</td>\n",
       "      <td>1.27%</td>\n",
       "      <td>2115230</td>\n",
       "      <td>53,019</td>\n",
       "      <td>2.51%</td>\n",
       "      <td>1,158,919</td>\n",
       "      <td>1,122,474</td>\n",
       "      <td>36,445</td>\n",
       "      <td>3.1%</td>\n",
       "    </tr>\n",
       "    <tr>\n",
       "      <th>8</th>\n",
       "      <td>2018</td>\n",
       "      <td>964254</td>\n",
       "      <td>12,504</td>\n",
       "      <td>1.31%</td>\n",
       "      <td>2168316</td>\n",
       "      <td>53,086</td>\n",
       "      <td>2.45%</td>\n",
       "      <td>1,200,405</td>\n",
       "      <td>1,165,291</td>\n",
       "      <td>35,114</td>\n",
       "      <td>2.9%</td>\n",
       "    </tr>\n",
       "  </tbody>\n",
       "</table>\n",
       "</div>"
      ],
      "text/plain": [
       "   Year  Population  Growth  Annual growth rate Metro Population Metro Growth  \\\n",
       "0  2010      806423  149,861              2.08%          1727528          NaN   \n",
       "1  2011      828694   22,271              2.76%          1780605       53,077   \n",
       "2  2012      854841   26,147              3.16%          1834926       54,321   \n",
       "3  2013      875463   20,622              2.41%          1883901       48,975   \n",
       "4  2014      901734   26,271              3.00%          1943409       59,508   \n",
       "5  2015      921545   19,811              2.20%          2002591       59,182   \n",
       "6  2016      939768   18,223              1.98%          2062211       59,620   \n",
       "7  2017      951750   11,982              1.27%          2115230       53,019   \n",
       "8  2018      964254   12,504              1.31%          2168316       53,086   \n",
       "\n",
       "  Metro Growth Percent  Labor Force   Employment Unemployment  \\\n",
       "0                  NaN     930,550      865,461       65,089    \n",
       "1                2.98%     960,844      897,490       63,354    \n",
       "2                2.96%     987,653      931,584       56,069    \n",
       "3                2.60%   1,019,483      966,601       52,882    \n",
       "4                3.06%   1,048,963    1,004,806       44,157    \n",
       "5                2.96%   1,073,300    1,037,150       36,150    \n",
       "6                2.89%   1,118,228    1,081,654       36,574    \n",
       "7                2.51%   1,158,919    1,122,474       36,445    \n",
       "8                2.45%   1,200,405    1,165,291       35,114    \n",
       "\n",
       "  Unemployment Rate  \n",
       "0              7.0%  \n",
       "1              6.6%  \n",
       "2              5.7%  \n",
       "3              5.2%  \n",
       "4              4.2%  \n",
       "5              3.4%  \n",
       "6              3.3%  \n",
       "7              3.1%  \n",
       "8              2.9%  "
      ]
     },
     "execution_count": 63,
     "metadata": {},
     "output_type": "execute_result"
    }
   ],
   "source": [
    "aust_pop_df"
   ]
  },
  {
   "cell_type": "code",
   "execution_count": 107,
   "metadata": {},
   "outputs": [],
   "source": [
    "#aust_pop_df[\"Population\"] = aust_pop_df[\"Population\"].astype(np.int64)\n",
    "aust_pop_df[\"Metro Population\"] = pd.to_numeric( aust_pop_df[\"Metro Population\"] )"
   ]
  },
  {
   "cell_type": "code",
   "execution_count": 38,
   "metadata": {},
   "outputs": [],
   "source": [
    "years = list( df.index.year.unique() )"
   ]
  },
  {
   "cell_type": "code",
   "execution_count": 40,
   "metadata": {},
   "outputs": [],
   "source": [
    "years.reverse()"
   ]
  },
  {
   "cell_type": "code",
   "execution_count": 41,
   "metadata": {},
   "outputs": [
    {
     "data": {
      "text/plain": [
       "[2010, 2011, 2012, 2013, 2014, 2015, 2016, 2017, 2018]"
      ]
     },
     "execution_count": 41,
     "metadata": {},
     "output_type": "execute_result"
    }
   ],
   "source": [
    "years"
   ]
  },
  {
   "cell_type": "code",
   "execution_count": 98,
   "metadata": {},
   "outputs": [],
   "source": [
    "crime_per_capita_by_year = [ (len( df[df.index.year==year])/int(aust_pop_df[aust_pop_df[\"Year\"]==year][\"Population\"])) for year in years]"
   ]
  },
  {
   "cell_type": "code",
   "execution_count": 101,
   "metadata": {},
   "outputs": [],
   "source": [
    "pop_by_year = [ int(aust_pop_df[aust_pop_df[\"Year\"]==year][\"Population\"]) for year in years ]"
   ]
  },
  {
   "cell_type": "code",
   "execution_count": 102,
   "metadata": {},
   "outputs": [
    {
     "data": {
      "text/plain": [
       "[806423, 828694, 854841, 875463, 901734, 921545, 939768, 951750, 964254]"
      ]
     },
     "execution_count": 102,
     "metadata": {},
     "output_type": "execute_result"
    }
   ],
   "source": [
    "pop_by_year"
   ]
  },
  {
   "cell_type": "code",
   "execution_count": 99,
   "metadata": {},
   "outputs": [
    {
     "data": {
      "text/plain": [
       "[0.08966014114180772,\n",
       " 0.07946600313264003,\n",
       " 0.07550175997641667,\n",
       " 0.07127085896262891,\n",
       " 0.06445914205297792,\n",
       " 0.06084347481674796,\n",
       " 0.04787990227375267,\n",
       " 0.044109272392960336,\n",
       " 0.04908042901559133]"
      ]
     },
     "execution_count": 99,
     "metadata": {},
     "output_type": "execute_result"
    }
   ],
   "source": [
    "crime_per_capita_by_year"
   ]
  },
  {
   "cell_type": "code",
   "execution_count": 114,
   "metadata": {},
   "outputs": [
    {
     "data": {
      "image/png": "[encoded data removed]",
      "text/plain": [
       "<Figure size 432x288 with 1 Axes>"
      ]
     },
     "metadata": {
      "needs_background": "light"
     },
     "output_type": "display_data"
    }
   ],
   "source": [
    "plt.bar(years,crime_per_capita_by_year)\n",
    "plt.title(\"Crime Report per Capita by Year\")\n",
    "plt.savefig(\"crimePerCapita.png\")"
   ]
  },
  {
   "cell_type": "code",
   "execution_count": 115,
   "metadata": {},
   "outputs": [
    {
     "data": {
      "image/png": "[encoded data removed]",
      "text/plain": [
       "<Figure size 432x288 with 1 Axes>"
      ]
     },
     "metadata": {
      "needs_background": "light"
     },
     "output_type": "display_data"
    }
   ],
   "source": [
    "plt.bar(years,pop_by_year)\n",
    "plt.title(\"City of Austin Population by Year\")\n",
    "plt.savefig(\"atxPopPerYear.png\")"
   ]
  },
  {
   "cell_type": "code",
   "execution_count": 109,
   "metadata": {},
   "outputs": [],
   "source": [
    "metro_pop_by_year = [ int(aust_pop_df[aust_pop_df[\"Year\"]==year][\"Metro Population\"]) for year in years ]"
   ]
  },
  {
   "cell_type": "code",
   "execution_count": 116,
   "metadata": {},
   "outputs": [
    {
     "data": {
      "image/png": "[encoded data removed]",
      "text/plain": [
       "<Figure size 432x288 with 1 Axes>"
      ]
     },
     "metadata": {
      "needs_background": "light"
     },
     "output_type": "display_data"
    }
   ],
   "source": [
    "plt.bar(years,metro_pop_by_year)\n",
    "plt.title(\"Austin Metro Area Population by Year\")\n",
    "plt.savefig(\"atxMetroPopPerYear.png\")"
   ]
  },
  {
   "cell_type": "code",
   "execution_count": 111,
   "metadata": {},
   "outputs": [],
   "source": [
    "crime_per_capita_by_year_metro = [ (len( df[df.index.year==year])/int(aust_pop_df[aust_pop_df[\"Year\"]==year][\"Metro Population\"])) for year in years]\n",
    "\n"
   ]
  },
  {
   "cell_type": "code",
   "execution_count": 117,
   "metadata": {},
   "outputs": [
    {
     "data": {
      "image/png": "[encoded data removed]",
      "text/plain": [
       "<Figure size 432x288 with 1 Axes>"
      ]
     },
     "metadata": {
      "needs_background": "light"
     },
     "output_type": "display_data"
    }
   ],
   "source": [
    "plt.bar(years,crime_per_capita_by_year_metro)\n",
    "plt.title(\"Crime Report per Capita Metro by Year\")\n",
    "plt.savefig(\"crimePerCapMetro.png\")"
   ]
  },
  {
   "cell_type": "code",
   "execution_count": 118,
   "metadata": {},
   "outputs": [],
   "source": [
    "zipgroup = df.groupby(\"Zip Code\")"
   ]
  },
  {
   "cell_type": "code",
   "execution_count": 128,
   "metadata": {},
   "outputs": [
    {
     "data": {
      "text/plain": [
       "Zip Code\n",
       "0          715\n",
       "78610       23\n",
       "78612        1\n",
       "78613     1726\n",
       "78617     3398\n",
       "78626        1\n",
       "78640        3\n",
       "78641        7\n",
       "78645        1\n",
       "78652      188\n",
       "78653      393\n",
       "78660     1408\n",
       "78664       37\n",
       "78669        1\n",
       "78681       31\n",
       "78701    59865\n",
       "78702    30756\n",
       "78703     9969\n",
       "78704    39279\n",
       "78705    13889\n",
       "78712      121\n",
       "78717     2574\n",
       "78719     5362\n",
       "78721     8182\n",
       "78722     3428\n",
       "78723    22050\n",
       "78724     7186\n",
       "78725      694\n",
       "78726     2272\n",
       "78727     6740\n",
       "78728      265\n",
       "78729     8076\n",
       "78730      585\n",
       "78731     4959\n",
       "78732       67\n",
       "78733       69\n",
       "78734       27\n",
       "78735     2813\n",
       "78736      857\n",
       "78737       48\n",
       "78738       16\n",
       "78739     1257\n",
       "78741    44548\n",
       "78742      537\n",
       "78744    23437\n",
       "78745    29092\n",
       "78746     5405\n",
       "78747     2778\n",
       "78748    21119\n",
       "78749     7942\n",
       "78750     4963\n",
       "78751    11805\n",
       "78752    14213\n",
       "78753    42006\n",
       "78754     4480\n",
       "78756     2998\n",
       "78757    10071\n",
       "78758    34576\n",
       "78759    14283\n",
       "Name: Highest Offense Description, dtype: int64"
      ]
     },
     "execution_count": 128,
     "metadata": {},
     "output_type": "execute_result"
    }
   ],
   "source": [
    "zipgroup[\"Highest Offense Description\"].count()"
   ]
  },
  {
   "cell_type": "code",
   "execution_count": 140,
   "metadata": {},
   "outputs": [],
   "source": [
    "crimes_per_zip_sorted = list(zipgroup[\"Highest Offense Description\"].count() )"
   ]
  },
  {
   "cell_type": "code",
   "execution_count": 139,
   "metadata": {},
   "outputs": [],
   "source": [
    "zips_sorted = list( df[\"Zip Code\"].unique())"
   ]
  },
  {
   "cell_type": "code",
   "execution_count": 141,
   "metadata": {},
   "outputs": [
    {
     "data": {
      "text/plain": [
       "[715,\n",
       " 23,\n",
       " 1,\n",
       " 1726,\n",
       " 3398,\n",
       " 1,\n",
       " 3,\n",
       " 7,\n",
       " 1,\n",
       " 188,\n",
       " 393,\n",
       " 1408,\n",
       " 37,\n",
       " 1,\n",
       " 31,\n",
       " 59865,\n",
       " 30756,\n",
       " 9969,\n",
       " 39279,\n",
       " 13889,\n",
       " 121,\n",
       " 2574,\n",
       " 5362,\n",
       " 8182,\n",
       " 3428,\n",
       " 22050,\n",
       " 7186,\n",
       " 694,\n",
       " 2272,\n",
       " 6740,\n",
       " 265,\n",
       " 8076,\n",
       " 585,\n",
       " 4959,\n",
       " 67,\n",
       " 69,\n",
       " 27,\n",
       " 2813,\n",
       " 857,\n",
       " 48,\n",
       " 16,\n",
       " 1257,\n",
       " 44548,\n",
       " 537,\n",
       " 23437,\n",
       " 29092,\n",
       " 5405,\n",
       " 2778,\n",
       " 21119,\n",
       " 7942,\n",
       " 4963,\n",
       " 11805,\n",
       " 14213,\n",
       " 42006,\n",
       " 4480,\n",
       " 2998,\n",
       " 10071,\n",
       " 34576,\n",
       " 14283]"
      ]
     },
     "execution_count": 141,
     "metadata": {},
     "output_type": "execute_result"
    }
   ],
   "source": [
    "crimes_per_zip_sorted"
   ]
  },
  {
   "cell_type": "code",
   "execution_count": 142,
   "metadata": {},
   "outputs": [
    {
     "data": {
      "text/plain": [
       "[0,\n",
       " 78610,\n",
       " 78612,\n",
       " 78613,\n",
       " 78617,\n",
       " 78626,\n",
       " 78640,\n",
       " 78641,\n",
       " 78645,\n",
       " 78652,\n",
       " 78653,\n",
       " 78660,\n",
       " 78664,\n",
       " 78669,\n",
       " 78681,\n",
       " 78701,\n",
       " 78702,\n",
       " 78703,\n",
       " 78704,\n",
       " 78705,\n",
       " 78712,\n",
       " 78717,\n",
       " 78719,\n",
       " 78721,\n",
       " 78722,\n",
       " 78723,\n",
       " 78724,\n",
       " 78725,\n",
       " 78726,\n",
       " 78727,\n",
       " 78728,\n",
       " 78729,\n",
       " 78730,\n",
       " 78731,\n",
       " 78732,\n",
       " 78733,\n",
       " 78734,\n",
       " 78735,\n",
       " 78736,\n",
       " 78737,\n",
       " 78738,\n",
       " 78739,\n",
       " 78741,\n",
       " 78742,\n",
       " 78744,\n",
       " 78745,\n",
       " 78746,\n",
       " 78747,\n",
       " 78748,\n",
       " 78749,\n",
       " 78750,\n",
       " 78751,\n",
       " 78752,\n",
       " 78753,\n",
       " 78754,\n",
       " 78756,\n",
       " 78757,\n",
       " 78758,\n",
       " 78759]"
      ]
     },
     "execution_count": 142,
     "metadata": {},
     "output_type": "execute_result"
    }
   ],
   "source": [
    "zips_sorted"
   ]
  },
  {
   "cell_type": "code",
   "execution_count": 144,
   "metadata": {},
   "outputs": [
    {
     "data": {
      "text/plain": [
       "59"
      ]
     },
     "execution_count": 144,
     "metadata": {},
     "output_type": "execute_result"
    }
   ],
   "source": [
    "len(crimes_per_zip_sorted)"
   ]
  },
  {
   "cell_type": "code",
   "execution_count": null,
   "metadata": {},
   "outputs": [],
   "source": []
  }
 ],
 "metadata": {
  "kernelspec": {
   "display_name": "Python 3",
   "language": "python",
   "name": "python3"
  },
  "language_info": {
   "codemirror_mode": {
    "name": "ipython",
    "version": 3
   },
   "file_extension": ".py",
   "mimetype": "text/x-python",
   "name": "python",
   "nbconvert_exporter": "python",
   "pygments_lexer": "ipython3",
   "version": "3.7.4"
  }
 },
 "nbformat": 4,
 "nbformat_minor": 2
}
